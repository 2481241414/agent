{
 "cells": [
  {
   "cell_type": "code",
   "execution_count": null,
   "id": "b4c539c2",
   "metadata": {},
   "outputs": [],
   "source": [
    "def twoSum(nums, target):\n",
    "    result = []\n",
    "    for i, num in enumerate(nums):\n",
    "        if target - num in result:\n",
    "            return [result[target - num], i]\n",
    "        else:\n",
    "            result[num] = i\n",
    "    return []"
   ]
  },
  {
   "cell_type": "code",
   "execution_count": 4,
   "id": "0e3ccd43",
   "metadata": {},
   "outputs": [
    {
     "data": {
      "text/plain": [
       "[['eat', 'ate'], ['aab']]"
      ]
     },
     "execution_count": 4,
     "metadata": {},
     "output_type": "execute_result"
    }
   ],
   "source": [
    "def yiweici(strs):\n",
    "    ans = {}\n",
    "    for s in strs:\n",
    "        key = \"\".join(sorted(s))\n",
    "        if key not in ans:\n",
    "            ans[key] = []\n",
    "        ans[key].append(s)\n",
    "    return list(ans.values())\n",
    "strs = [\"eat\", \"ate\", \"aab\"]\n",
    "yiweici(strs)"
   ]
  },
  {
   "cell_type": "code",
   "execution_count": 6,
   "id": "e844afc7",
   "metadata": {},
   "outputs": [
    {
     "data": {
      "text/plain": [
       "4"
      ]
     },
     "execution_count": 6,
     "metadata": {},
     "output_type": "execute_result"
    }
   ],
   "source": [
    "def maxlength(nums):\n",
    "    num_set = set(nums)\n",
    "    max_streak = 0\n",
    "    for num in num_set:\n",
    "        if num - 1 not in num_set:\n",
    "            cur_num = num\n",
    "            cur_streak = 1\n",
    "            while cur_num + 1 in num_set:\n",
    "                cur_num += 1\n",
    "                cur_streak += 1\n",
    "            max_streak = max(max_streak, cur_streak)\n",
    "    return max_streak\n",
    "\n",
    "maxlength([1,2,3,4,8])"
   ]
  },
  {
   "cell_type": "code",
   "execution_count": 8,
   "id": "943ba587",
   "metadata": {},
   "outputs": [
    {
     "data": {
      "text/plain": [
       "[1, 2, 3, 1, 2, 0, 0]"
      ]
     },
     "execution_count": 8,
     "metadata": {},
     "output_type": "execute_result"
    }
   ],
   "source": [
    "def moveZero(nums):\n",
    "    i = 0\n",
    "    for j in range(len(nums)):\n",
    "        if nums[j] != 0:\n",
    "            nums[i], nums[j] = nums[j], nums[i]\n",
    "            i += 1\n",
    "    return nums\n",
    "moveZero([1,2,3,0,1,2,0])"
   ]
  },
  {
   "cell_type": "code",
   "execution_count": 10,
   "id": "0fc87c7e",
   "metadata": {},
   "outputs": [
    {
     "data": {
      "text/plain": [
       "[[-1, 0, 1]]"
      ]
     },
     "execution_count": 10,
     "metadata": {},
     "output_type": "execute_result"
    }
   ],
   "source": [
    "def threeSum(nums):\n",
    "    nums.sort()\n",
    "    n = len(nums)\n",
    "    ans = []\n",
    "    for i in range(n):\n",
    "        if i > 0 and nums[i] == nums[i - 1]:\n",
    "            continue\n",
    "        left, right = i + 1, n - 1\n",
    "        while left < right:\n",
    "            total = nums[i] + nums[left] + nums[right]\n",
    "            if total > 0:\n",
    "                right -= 1\n",
    "            elif total < 0:\n",
    "                left += 1\n",
    "            else:\n",
    "                ans.append([nums[i], nums[left], nums[right]])\n",
    "                while left < right and nums[left] == nums[left + 1]:\n",
    "                    left += 1\n",
    "                while left < right and nums[right] == nums[right - 1]:\n",
    "                    right -= 1\n",
    "                left += 1\n",
    "                right -= 1\n",
    "    return ans\n",
    "threeSum([1,0,-1])"
   ]
  },
  {
   "cell_type": "code",
   "execution_count": 1,
   "id": "4977951b",
   "metadata": {},
   "outputs": [],
   "source": [
    "def maxwater(height):\n",
    "    ans = 0\n",
    "    left, right = 0, len(height) - 1\n",
    "    while left < right:\n",
    "        width = right - left\n",
    "        water = width * min(height[left], height[right])\n",
    "        ans = max(ans, water)\n",
    "        if height[left] < height[right]:\n",
    "            left += 1\n",
    "        else:\n",
    "            right -= 1\n",
    "    return ans"
   ]
  },
  {
   "cell_type": "code",
   "execution_count": null,
   "id": "1ea9abda",
   "metadata": {},
   "outputs": [],
   "source": [
    "def jieyushui(height):\n",
    "    lmax, rmax = 0, 0\n",
    "    left, right = 0, len(height) - 1\n",
    "    ans = 0\n",
    "    while left < right:\n",
    "        lmax = max(lmax, height[left])\n",
    "        rmax = max(rmax, height[right])\n",
    "        if height[left] < height[right]:\n",
    "            ans = lmax - height[left]\n",
    "            left += 1\n",
    "        else:\n",
    "            ans = rmax - height[right]\n",
    "            right -= 1\n",
    "    return ans"
   ]
  },
  {
   "cell_type": "code",
   "execution_count": 2,
   "id": "4f51fec7",
   "metadata": {},
   "outputs": [
    {
     "data": {
      "text/plain": [
       "4"
      ]
     },
     "execution_count": 2,
     "metadata": {},
     "output_type": "execute_result"
    }
   ],
   "source": [
    "def maxzichuan(s):\n",
    "    window = set()\n",
    "    ans = 0\n",
    "    left = 0\n",
    "    for right, c in enumerate(s):\n",
    "        while c in window:\n",
    "            window.remove(s[left])\n",
    "            left += 1\n",
    "        window.add(c)\n",
    "        ans = max(ans, right - left + 1)\n",
    "    return ans \n",
    "s = \"abhass\"\n",
    "maxzichuan(s)\n"
   ]
  },
  {
   "cell_type": "code",
   "execution_count": 8,
   "id": "acdee91e",
   "metadata": {},
   "outputs": [
    {
     "data": {
      "text/plain": [
       "[0, 1, 2]"
      ]
     },
     "execution_count": 8,
     "metadata": {},
     "output_type": "execute_result"
    }
   ],
   "source": [
    "from collections import Counter\n",
    "\n",
    "def yiweici(s, p):\n",
    "    s_count = Counter()\n",
    "    p_count = Counter(p)\n",
    "    ans = []\n",
    "    left = 0\n",
    "    for right, c in enumerate(s):\n",
    "        s_count[c] += 1\n",
    "        left = right - len(p) + 1\n",
    "        if left < 0:\n",
    "            continue\n",
    "        if s_count == p_count:\n",
    "            ans.append(left)\n",
    "        s_count[s[left]] -= 1\n",
    "    return ans\n",
    "\n",
    "yiweici(\"abab\", \"ab\")"
   ]
  },
  {
   "cell_type": "code",
   "execution_count": 10,
   "id": "8a3ebee7",
   "metadata": {},
   "outputs": [
    {
     "data": {
      "text/plain": [
       "2"
      ]
     },
     "execution_count": 10,
     "metadata": {},
     "output_type": "execute_result"
    }
   ],
   "source": [
    "from collections import defaultdict\n",
    "\n",
    "def sumK(nums, k):\n",
    "    presum = defaultdict(int)\n",
    "    presum[0] = 1\n",
    "    count = 0\n",
    "    cur_sum = 0\n",
    "    for num in nums:\n",
    "        cur_sum += num\n",
    "        count += presum[cur_sum - k]\n",
    "        presum[cur_sum] += 1\n",
    "    return count\n",
    "sumK([1,2,3], 3)"
   ]
  },
  {
   "cell_type": "code",
   "execution_count": 17,
   "id": "26ab45d8",
   "metadata": {},
   "outputs": [
    {
     "data": {
      "text/plain": [
       "[2, 3]"
      ]
     },
     "execution_count": 17,
     "metadata": {},
     "output_type": "execute_result"
    }
   ],
   "source": [
    "from collections import deque\n",
    "def huadong(nums, k):\n",
    "    ans = []\n",
    "    queue = deque()\n",
    "    for i, num in enumerate(nums):\n",
    "        while queue and num > nums[queue[-1]]:\n",
    "            queue.pop()\n",
    "        queue.append(i)\n",
    "        if i - queue[0] > k:\n",
    "            queue.popleft()\n",
    "        if i >= k - 1:\n",
    "            ans.append(nums[queue[0]])\n",
    "    return ans\n",
    "\n",
    "huadong([1,2,3],2)"
   ]
  },
  {
   "cell_type": "code",
   "execution_count": null,
   "id": "97fd459a",
   "metadata": {},
   "outputs": [],
   "source": [
    "def minzichuan(s, t):\n",
    "    s_count = Counter()\n",
    "    t_count = Counter(t)\n",
    "    left = 0\n",
    "    ans_left, ans_right = 0, len(s)\n",
    "    for right, c in enumerate(s):\n",
    "        s_count[c] += 1\n",
    "        while s_count > t_count:\n",
    "            if right - left < ans_right - ans_left:\n",
    "                ans_left, ans_right = left, right\n",
    "            s_count[c] -= 1\n",
    "            left += 1\n",
    "    return \"\" if ans_left < 0 else s[ans_left: ans_right + 1]\n"
   ]
  },
  {
   "cell_type": "code",
   "execution_count": 18,
   "id": "e54272e8",
   "metadata": {},
   "outputs": [
    {
     "data": {
      "text/plain": [
       "6"
      ]
     },
     "execution_count": 18,
     "metadata": {},
     "output_type": "execute_result"
    }
   ],
   "source": [
    "def maxzishuzu(nums):\n",
    "    max_num = cur_num = nums[0]\n",
    "    for num in nums[1:]:\n",
    "        cur_num = max(num, cur_num + num)\n",
    "        max_num = max(max_num, cur_num)\n",
    "    return max_num\n",
    "\n",
    "maxzishuzu([1,2,3])"
   ]
  },
  {
   "cell_type": "code",
   "execution_count": null,
   "id": "1ceee01a",
   "metadata": {},
   "outputs": [
    {
     "data": {
      "text/plain": [
       "[[1, 4]]"
      ]
     },
     "execution_count": 19,
     "metadata": {},
     "output_type": "execute_result"
    }
   ],
   "source": [
    "def mergearea(intervals):\n",
    "    intervals.sort(lambda x: x[0])\n",
    "    ans = []\n",
    "    for x in intervals:\n",
    "        if ans and x[0] <= ans[-1][1]:\n",
    "            ans[-1][1] = max(ans[-1][1], x[1])\n",
    "        else:\n",
    "            ans.append(x)\n",
    "    return ans \n",
    "intervals = [[1,3], [2,4]]\n",
    "mergearea(intervals)"
   ]
  },
  {
   "cell_type": "code",
   "execution_count": 20,
   "id": "7a49961d",
   "metadata": {},
   "outputs": [
    {
     "data": {
      "text/plain": [
       "[3, 4, 5, 1, 2]"
      ]
     },
     "execution_count": 20,
     "metadata": {},
     "output_type": "execute_result"
    }
   ],
   "source": [
    "def lunzhuan(nums, k):\n",
    "    def exchange(i, j):\n",
    "        while i < j:\n",
    "            nums[i], nums[j] = nums[j], nums[i]\n",
    "            i += 1\n",
    "            j -= 1\n",
    "    n = len(nums)\n",
    "    k %= n\n",
    "    exchange(0, n - 1)\n",
    "    exchange(0, k - 1)\n",
    "    exchange(k, n - 1)\n",
    "    return nums\n",
    "\n",
    "lunzhuan([1,2,3,4,5], 3)"
   ]
  },
  {
   "cell_type": "code",
   "execution_count": null,
   "id": "515cfa2b",
   "metadata": {},
   "outputs": [],
   "source": [
    "def chengji(nums):\n",
    "    n = len(nums)\n",
    "    suf = [1] * n\n",
    "    for i in range(n - 2, -1, -1):\n",
    "        suf[i] = suf[i + 1] * nums[i + 1]\n",
    "    pre = 1\n",
    "    for i, x in enumerate(nums):\n",
    "        suf[i] *= pre\n",
    "        pre *= x\n",
    "    return suf\n"
   ]
  },
  {
   "cell_type": "code",
   "execution_count": 22,
   "id": "a597b38d",
   "metadata": {},
   "outputs": [
    {
     "data": {
      "text/plain": [
       "5"
      ]
     },
     "execution_count": 22,
     "metadata": {},
     "output_type": "execute_result"
    }
   ],
   "source": [
    "def findfirst(nums):\n",
    "    return min(set(range(1, len(nums) + 2)) - set(nums))\n",
    "nums = [1,2,3,4]\n",
    "findfirst(nums)"
   ]
  },
  {
   "cell_type": "code",
   "execution_count": 23,
   "id": "94d56dba",
   "metadata": {},
   "outputs": [
    {
     "data": {
      "text/plain": [
       "[[0, 0, 0]]"
      ]
     },
     "execution_count": 23,
     "metadata": {},
     "output_type": "execute_result"
    }
   ],
   "source": [
    "def matrixZero(matrix):\n",
    "    row = len(matrix)\n",
    "    col = len(matrix[0])\n",
    "    row_set = set()\n",
    "    col_set = set()\n",
    "    for i in range(row):\n",
    "        for j in range(col):\n",
    "            if matrix[i][j] == 0:\n",
    "                row_set.add(i)\n",
    "                col_set.add(j)\n",
    "    for i in range(row):\n",
    "        for j in range(col):\n",
    "            if i in row_set or j in col_set:\n",
    "                matrix[i][j] = 0\n",
    "    return matrix\n",
    "matrixZero([[1,0,1]])"
   ]
  },
  {
   "cell_type": "code",
   "execution_count": null,
   "id": "a115f01b",
   "metadata": {},
   "outputs": [],
   "source": [
    "def rotate(matrix):\n",
    "    m, n = len(matrix), len(matrix[0])\n",
    "    top, bottom, left, right = 0, m - 1, 0, n - 1\n",
    "    ans = []\n",
    "    while left <= right and top <= bottom:\n",
    "        for j in range(left, right + 1):\n",
    "            ans.append(matrix[top][j])\n",
    "        top += 1\n",
    "        for i in range(top, bottom + 1):\n",
    "            ans.append(matrix[i][right])\n",
    "        right -= 1\n",
    "        if top <= bottom:\n",
    "            for j in range(right, left - 1, -1):\n",
    "                ans.append(matrix[bottom][j])\n",
    "            bottom -= 1\n",
    "        if left <= right:\n",
    "            for i in range(bottom, top - 1, -1):\n",
    "                ans.append(matrix[i][left])\n",
    "            left += 1\n",
    "    return ans\n",
    "\n"
   ]
  },
  {
   "cell_type": "code",
   "execution_count": null,
   "id": "f78c2ab4",
   "metadata": {},
   "outputs": [],
   "source": [
    "def rotate(matrix):\n",
    "    n = len(matrix)\n",
    "    for i in range(n):\n",
    "        for j in range(i, n):\n",
    "            matrix[i][j], matrix[j][i] = matrix[j][i], matrix[i][j]\n",
    "    for i in range(n):\n",
    "        matrix[i].reverse()\n",
    "    return matrix"
   ]
  },
  {
   "cell_type": "code",
   "execution_count": null,
   "id": "2fc69d2e",
   "metadata": {},
   "outputs": [],
   "source": [
    "def searchMatrix(matrix, target):\n",
    "    n = len(matrix)\n",
    "    i, j = 0, n - 1\n",
    "    while i < n and j >= 0:\n",
    "        if matrix[i][j] == target:\n",
    "            return True\n",
    "        if matrix[i][j] > target:\n",
    "            j -= 1\n",
    "        else:\n",
    "            i += 1\n",
    "    return False"
   ]
  },
  {
   "cell_type": "code",
   "execution_count": null,
   "id": "3bb5aac4",
   "metadata": {},
   "outputs": [],
   "source": [
    "class ListNode:\n",
    "    def __init__(self, val, next):\n",
    "        self.val = val\n",
    "        self.next = next"
   ]
  },
  {
   "cell_type": "code",
   "execution_count": null,
   "id": "d910e4e5",
   "metadata": {},
   "outputs": [],
   "source": [
    "def xiangjiaolianbiao(headA, headB):\n",
    "    if not headA or not headB:\n",
    "        return \n",
    "    p1 = headA\n",
    "    p2 = headB\n",
    "    while p1 != p2:\n",
    "        p1 = p1.next if p1 else headB\n",
    "        p2 = p2.next if p2 else headA\n",
    "    return p1"
   ]
  },
  {
   "cell_type": "code",
   "execution_count": null,
   "id": "9636ca90",
   "metadata": {},
   "outputs": [],
   "source": [
    "def reverse(head):\n",
    "    prev = None\n",
    "    cur = head\n",
    "    while cur:\n",
    "        temp = cur.next\n",
    "        cur.next = prev\n",
    "        prev = cur\n",
    "        cur = temp\n",
    "    return prev"
   ]
  },
  {
   "cell_type": "code",
   "execution_count": null,
   "id": "625ed55c",
   "metadata": {},
   "outputs": [],
   "source": [
    "def huiwen(head):\n",
    "    if not head or not head.next:\n",
    "        return\n",
    "    slow = fast = head\n",
    "    while fast and fast.next:\n",
    "        fast = fast.next.next\n",
    "        slow = slow.next\n",
    "    prev = None\n",
    "    while slow:\n",
    "        temp = slow.next\n",
    "        slow.next = prev\n",
    "        prev = slow\n",
    "        slow = temp\n",
    "    left, right = head, prev\n",
    "    while right:\n",
    "        if left.val != right.val:\n",
    "            return False\n",
    "        left = left.next\n",
    "        right = right.next\n",
    "    return True\n",
    "    "
   ]
  },
  {
   "cell_type": "code",
   "execution_count": null,
   "id": "785e0bea",
   "metadata": {},
   "outputs": [],
   "source": [
    "def huan(head):\n",
    "    slow = fast = head\n",
    "    while fast and fast.next:\n",
    "        slow = slow.next\n",
    "        fast = fast.next.next\n",
    "        if slow is fast:\n",
    "            return True\n",
    "    return False"
   ]
  },
  {
   "cell_type": "code",
   "execution_count": 1,
   "id": "97d1477c",
   "metadata": {},
   "outputs": [],
   "source": [
    "def huan2(head):\n",
    "    slow = fast = head\n",
    "    while fast and fast.next:\n",
    "        slow = slow.next\n",
    "        fast = fast.next.next\n",
    "        if slow is fast:\n",
    "            while slow is not head:\n",
    "                slow = slow.next\n",
    "                head = head.next\n",
    "            return slow\n",
    "    return None"
   ]
  },
  {
   "cell_type": "code",
   "execution_count": 2,
   "id": "d21237e8",
   "metadata": {},
   "outputs": [],
   "source": [
    "def mergeList(l1, l2):\n",
    "    cur = dummy = ListNode()\n",
    "    while l1 and l2:\n",
    "        if l1.val < l2.val:\n",
    "            cur.next = l1\n",
    "            l1 = l1.next\n",
    "        else:\n",
    "            cur.next = l2\n",
    "            l2 = l2.next\n",
    "        cur = cur.next\n",
    "    if l1:\n",
    "        cur.next = l1\n",
    "    if l2:\n",
    "        cur.next = l2\n",
    "    return dummy.next"
   ]
  },
  {
   "cell_type": "code",
   "execution_count": 3,
   "id": "14ab5c83",
   "metadata": {},
   "outputs": [],
   "source": [
    "def twoSum(l1, l2):\n",
    "    cur = dummy = ListNode()\n",
    "    carry = 0\n",
    "    while l1 or l2 or carry:\n",
    "        val1 = l1.val if l1 else 0\n",
    "        val2 = l2.val if l2 else 0\n",
    "        total = val1 + val2 + carry\n",
    "        total = total // 10\n",
    "        carry = total % 10\n",
    "        cur.next = ListNode(total)\n",
    "        cur = cur.next\n",
    "        if l1:\n",
    "            l1 = l1.next\n",
    "        if l2:\n",
    "            l2 = l2.next\n",
    "    return dummy.next"
   ]
  },
  {
   "cell_type": "code",
   "execution_count": 4,
   "id": "8c332986",
   "metadata": {},
   "outputs": [],
   "source": [
    "def deleteK(head, n):\n",
    "    dummy = ListNode(next=head)\n",
    "    slow = fast = head\n",
    "    for i in range(n):\n",
    "        fast = fast.next\n",
    "    while fast and fast.next:\n",
    "        slow = slow.next\n",
    "        fast = fast.next\n",
    "    slow.next = slow.next.next\n",
    "    return dummy.next"
   ]
  },
  {
   "cell_type": "code",
   "execution_count": 5,
   "id": "ab8d7964",
   "metadata": {},
   "outputs": [],
   "source": [
    "def changeNode(head):\n",
    "    prev = dummy = ListNode(next=head)\n",
    "    while prev.next and prev.next.next:\n",
    "        first = prev.next\n",
    "        second = prev.next.next\n",
    "\n",
    "        first.next = second.next\n",
    "        second.next = first\n",
    "        prev.next = second\n",
    "\n",
    "        prev = first\n",
    "    return dummy.next\n"
   ]
  },
  {
   "cell_type": "code",
   "execution_count": 6,
   "id": "90c09ea0",
   "metadata": {},
   "outputs": [],
   "source": [
    "def KGroup(head, k):\n",
    "    prev = dummy = ListNode()\n",
    "    while True:\n",
    "        stack = []\n",
    "        cur = head\n",
    "        count = 0\n",
    "        while cur and count:\n",
    "            stack.append(cur.val)\n",
    "            cur = cur.next\n",
    "            count -= 1\n",
    "        if count:\n",
    "            prev.next = head\n",
    "            break\n",
    "        while stack:\n",
    "            prev.next = stack.pop()\n",
    "            prev = prev.next\n",
    "        prev.next = cur\n",
    "        head = cur\n",
    "    return dummy.next\n"
   ]
  },
  {
   "cell_type": "code",
   "execution_count": null,
   "id": "a9c98b76",
   "metadata": {},
   "outputs": [],
   "source": [
    "def sortList(head):\n",
    "    def merge(l1, l2):\n",
    "        cur = dummy = ListNode()\n",
    "        while l1 and l2:\n",
    "            if l1.val < l2.val:\n",
    "                cur.next = l1 \n",
    "                l1 = l1.next\n",
    "            else:\n",
    "                cur.next = l2\n",
    "                l2 = l2.next\n",
    "            cur = cur.next\n",
    "            if l1:\n",
    "                l1 = l1.next\n",
    "            if l2:\n",
    "                l2 = l2.next\n",
    "        return dummy.next\n",
    "    \n",
    "    def split(head):\n",
    "        slow, fast = head, head.next\n",
    "        while fast and fast.next:\n",
    "            fast = fast.next.next\n",
    "            slow = slow.next\n",
    "        mid = slow.next\n",
    "        slow.next = None\n",
    "        return mid\n",
    "    \n",
    "    if not head or not head.next:\n",
    "        return head\n",
    "    \n",
    "    mid = split(head)\n",
    "    left = sortList(head)\n",
    "    right = sortList(mid)\n",
    "    return merge(left, right)\n"
   ]
  },
  {
   "cell_type": "code",
   "execution_count": null,
   "id": "73e99832",
   "metadata": {},
   "outputs": [],
   "source": [
    "import heapq\n",
    "\n",
    "def mergeKList(lists):\n",
    "    pq = []\n",
    "    for i, l in enumerate(lists):\n",
    "        if l:\n",
    "            heapq.heappush(pq, (l.val, i, l))\n",
    "    cur = dummy = ListNode()\n",
    "    while pq:\n",
    "        val, idx, node = heapq.heappop(pq)\n",
    "        cur.next = node\n",
    "        cur = cur.next\n",
    "        if node.next:\n",
    "            heapq.heappop(pq, (node.next.val, idx, node.next))\n",
    "    return dummy.next"
   ]
  },
  {
   "cell_type": "code",
   "execution_count": null,
   "id": "2aea8491",
   "metadata": {},
   "outputs": [],
   "source": [
    "def inorder(root):\n",
    "    ans = []\n",
    "    def dfs(node):\n",
    "        if not node:\n",
    "            return \n",
    "        dfs(node.left)\n",
    "        ans.append(node.val)\n",
    "        dfs(node.right)\n",
    "    dfs(root)\n",
    "    return ans"
   ]
  },
  {
   "cell_type": "code",
   "execution_count": null,
   "id": "a854c521",
   "metadata": {},
   "outputs": [],
   "source": [
    "def inorder(root):\n",
    "    ans = []\n",
    "    def dfs(node):\n",
    "        if not node:\n",
    "            return \n",
    "        dfs(node.left)\n",
    "        ans.append(node.val)\n",
    "        dfs(node.right)\n",
    "    dfs(root)\n",
    "    return ans "
   ]
  },
  {
   "cell_type": "code",
   "execution_count": null,
   "id": "14542984",
   "metadata": {},
   "outputs": [],
   "source": [
    "def inorder(root):\n",
    "    ans = []\n",
    "    cur = root\n",
    "    stack = []\n",
    "    while cur:\n",
    "        while cur and stack:\n",
    "            stack.append(cur)\n",
    "            cur = cur.left\n",
    "        cur = stack.pop()\n",
    "        ans.append(cur.val)\n",
    "        cur = cur.right\n",
    "    return ans "
   ]
  },
  {
   "cell_type": "code",
   "execution_count": null,
   "id": "d873d8b1",
   "metadata": {},
   "outputs": [],
   "source": [
    "def dfs(root):\n",
    "    if not root:\n",
    "        return \n",
    "    l_depth = dfs(root.left)\n",
    "    r_depth = dfs(root.right)\n",
    "    return max(l_depth, r_depth) + 1"
   ]
  },
  {
   "cell_type": "code",
   "execution_count": null,
   "id": "426b86ca",
   "metadata": {},
   "outputs": [],
   "source": [
    "def fanzhuan(root):\n",
    "    if not root:\n",
    "        return \n",
    "    queue = deque([root])\n",
    "    while queue:\n",
    "        n = len(queue)\n",
    "        for i in range(n):\n",
    "            node = queue.popleft()\n",
    "            node.left, node.right = node.right, node.left\n",
    "            if node.left:\n",
    "                queue.append(node.left)\n",
    "            if node.right:\n",
    "                queue.append(node.right)\n",
    "    return root"
   ]
  },
  {
   "cell_type": "code",
   "execution_count": 7,
   "id": "933e0127",
   "metadata": {},
   "outputs": [],
   "source": [
    "def isSame(p, q):\n",
    "    if not p or not q:\n",
    "        return p is q\n",
    "    return p.val == q.val and isSame(p.right, q.left) and isSame(p.left, q.right)\n",
    "def isduichen(root):\n",
    "    return isSame(root.left, root.right)\n"
   ]
  },
  {
   "cell_type": "code",
   "execution_count": null,
   "id": "8438097e",
   "metadata": {},
   "outputs": [],
   "source": [
    "def zhijing(root):\n",
    "    ans = float(\"-inf\")\n",
    "    def dfs(node):\n",
    "        if not node:\n",
    "            return -1\n",
    "        l_len = dfs(node.left) + 1\n",
    "        r_len = dfs(node.right) + 1\n",
    "        ans = max(l_len + r_len, ans)\n",
    "        return max(l_len, r_len)\n",
    "    dfs(root)\n",
    "    return ans\n"
   ]
  },
  {
   "cell_type": "code",
   "execution_count": 10,
   "id": "c001deb8",
   "metadata": {},
   "outputs": [],
   "source": [
    "def cengxu(root):\n",
    "    if not root:\n",
    "        return \n",
    "    queue = deque([root])\n",
    "    result = []\n",
    "    while queue:\n",
    "        n = len(queue)\n",
    "        level = []\n",
    "        for _ in range(n):\n",
    "            node = queue.popleft()\n",
    "            level.append(node.val)\n",
    "            if node.left:\n",
    "                queue.append(node.val)\n",
    "            if node.right:\n",
    "                queue.append(node.val)\n",
    "        result.append(level)\n",
    "    return result"
   ]
  },
  {
   "cell_type": "code",
   "execution_count": null,
   "id": "1d6ba189",
   "metadata": {},
   "outputs": [],
   "source": [
    "class TreeNode:\n",
    "    def __init__(self):\n",
    "        \n",
    "def dfs(left, right):\n",
    "    if left > right:\n",
    "        return \n",
    "    mid = (left + right) // 2\n",
    "    root = TreeNode(nums[mid])"
   ]
  },
  {
   "cell_type": "code",
   "execution_count": null,
   "id": "3065a710",
   "metadata": {},
   "outputs": [],
   "source": []
  },
  {
   "cell_type": "code",
   "execution_count": null,
   "id": "2f72cb05",
   "metadata": {},
   "outputs": [],
   "source": []
  },
  {
   "cell_type": "code",
   "execution_count": null,
   "id": "dcc82f52",
   "metadata": {},
   "outputs": [],
   "source": []
  },
  {
   "cell_type": "code",
   "execution_count": null,
   "id": "e236621c",
   "metadata": {},
   "outputs": [],
   "source": []
  },
  {
   "cell_type": "code",
   "execution_count": null,
   "id": "c468707c",
   "metadata": {},
   "outputs": [],
   "source": []
  },
  {
   "cell_type": "code",
   "execution_count": null,
   "id": "9fbfcc3a",
   "metadata": {},
   "outputs": [],
   "source": []
  },
  {
   "cell_type": "code",
   "execution_count": null,
   "id": "f78e2911",
   "metadata": {},
   "outputs": [],
   "source": []
  },
  {
   "cell_type": "code",
   "execution_count": null,
   "id": "c56b30ce",
   "metadata": {},
   "outputs": [],
   "source": []
  },
  {
   "cell_type": "code",
   "execution_count": null,
   "id": "5e10458e",
   "metadata": {},
   "outputs": [],
   "source": []
  },
  {
   "cell_type": "code",
   "execution_count": null,
   "id": "82a473eb",
   "metadata": {},
   "outputs": [],
   "source": []
  },
  {
   "cell_type": "code",
   "execution_count": null,
   "id": "ced2b454",
   "metadata": {},
   "outputs": [],
   "source": []
  },
  {
   "cell_type": "code",
   "execution_count": null,
   "id": "ca6d1ba3",
   "metadata": {},
   "outputs": [],
   "source": []
  },
  {
   "cell_type": "code",
   "execution_count": null,
   "id": "3a6bbd22",
   "metadata": {},
   "outputs": [],
   "source": []
  },
  {
   "cell_type": "code",
   "execution_count": null,
   "id": "ee0a84ac",
   "metadata": {},
   "outputs": [],
   "source": []
  },
  {
   "cell_type": "code",
   "execution_count": null,
   "id": "d32653c1",
   "metadata": {},
   "outputs": [],
   "source": []
  },
  {
   "cell_type": "code",
   "execution_count": null,
   "id": "1958a1c1",
   "metadata": {},
   "outputs": [],
   "source": []
  },
  {
   "cell_type": "code",
   "execution_count": null,
   "id": "bb519ec8",
   "metadata": {},
   "outputs": [],
   "source": []
  },
  {
   "cell_type": "code",
   "execution_count": null,
   "id": "f7b0377e",
   "metadata": {},
   "outputs": [],
   "source": []
  },
  {
   "cell_type": "code",
   "execution_count": null,
   "id": "c92f4e31",
   "metadata": {},
   "outputs": [],
   "source": []
  },
  {
   "cell_type": "code",
   "execution_count": null,
   "id": "52b35e1e",
   "metadata": {},
   "outputs": [],
   "source": []
  },
  {
   "cell_type": "code",
   "execution_count": null,
   "id": "2bb1e1d0",
   "metadata": {},
   "outputs": [],
   "source": []
  },
  {
   "cell_type": "code",
   "execution_count": null,
   "id": "03fde9df",
   "metadata": {},
   "outputs": [],
   "source": []
  },
  {
   "cell_type": "code",
   "execution_count": null,
   "id": "b4ceb06b",
   "metadata": {},
   "outputs": [],
   "source": []
  },
  {
   "cell_type": "code",
   "execution_count": null,
   "id": "a87f6e6a",
   "metadata": {},
   "outputs": [],
   "source": []
  },
  {
   "cell_type": "code",
   "execution_count": null,
   "id": "03a570a7",
   "metadata": {},
   "outputs": [],
   "source": []
  }
 ],
 "metadata": {
  "kernelspec": {
   "display_name": "hot",
   "language": "python",
   "name": "python3"
  },
  "language_info": {
   "codemirror_mode": {
    "name": "ipython",
    "version": 3
   },
   "file_extension": ".py",
   "mimetype": "text/x-python",
   "name": "python",
   "nbconvert_exporter": "python",
   "pygments_lexer": "ipython3",
   "version": "3.11.11"
  }
 },
 "nbformat": 4,
 "nbformat_minor": 5
}
